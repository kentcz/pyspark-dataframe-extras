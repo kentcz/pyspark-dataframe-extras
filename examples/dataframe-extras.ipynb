{
 "cells": [
  {
   "cell_type": "code",
   "execution_count": 12,
   "id": "6f9f36e8",
   "metadata": {},
   "outputs": [],
   "source": [
    "from pyspark.sql import SparkSession\n",
    "import pyspark.sql.functions as F\n",
    "\n",
    "spark = (\n",
    "    SparkSession.builder\n",
    "    .master(\"local\")\n",
    "    .appName(\"test-pyspark-dataframe-extras\")\n",
    "    .getOrCreate()\n",
    ")"
   ]
  },
  {
   "cell_type": "markdown",
   "id": "14cad64e",
   "metadata": {},
   "source": [
    "Importing dataframe_ext will add several functions to the Pyspark DataFrame class"
   ]
  },
  {
   "cell_type": "code",
   "execution_count": 13,
   "id": "ae95e526",
   "metadata": {},
   "outputs": [],
   "source": [
    "from pyspark_dataframe_extras.common import dataframe_ext"
   ]
  },
  {
   "cell_type": "markdown",
   "id": "ff14b345",
   "metadata": {},
   "source": [
    "# frequencyCount() / showFrequencyCount()"
   ]
  },
  {
   "cell_type": "code",
   "execution_count": 16,
   "id": "8d7d6f60",
   "metadata": {},
   "outputs": [
    {
     "name": "stdout",
     "output_type": "stream",
     "text": [
      "+------+------------+\n",
      "|letter|extra_column|\n",
      "+------+------------+\n",
      "|     A|           1|\n",
      "|     B|           2|\n",
      "|     C|           3|\n",
      "|     C|           4|\n",
      "|     C|           5|\n",
      "|     C|           6|\n",
      "|     A|           7|\n",
      "|     A|           8|\n",
      "|     C|           9|\n",
      "|     B|          10|\n",
      "+------+------------+\n",
      "\n"
     ]
    }
   ],
   "source": [
    "data = [\n",
    "        (\"A\", 1),\n",
    "        (\"B\", 2),\n",
    "        (\"C\", 3),\n",
    "        (\"C\", 4),\n",
    "        (\"C\", 5),\n",
    "        (\"C\", 6),\n",
    "        (\"A\", 7),\n",
    "        (\"A\", 8),\n",
    "        (\"C\", 9),\n",
    "        (\"B\", 10)\n",
    "    ]\n",
    "\n",
    "df = spark.createDataFrame(data, [\"letter\", \"extra_column\"])\n",
    "df.show()"
   ]
  },
  {
   "cell_type": "markdown",
   "id": "9d995ec9",
   "metadata": {},
   "source": [
    "The **frequencyCount()** function will:\n",
    "- Group rows by the `group_by` columns\n",
    "- Generate a Count and Frequency value for each group\n",
    "- Order the groups in descending order by frequency"
   ]
  },
  {
   "cell_type": "code",
   "execution_count": 9,
   "id": "553dc637",
   "metadata": {},
   "outputs": [
    {
     "name": "stdout",
     "output_type": "stream",
     "text": [
      "+------+-----+---------+\n",
      "|letter|count|frequency|\n",
      "+------+-----+---------+\n",
      "|     C|    5|      0.5|\n",
      "|     A|    3|      0.3|\n",
      "|     B|    2|      0.2|\n",
      "+------+-----+---------+\n",
      "\n"
     ]
    }
   ],
   "source": [
    "df.frequencyCount(\"letter\").show()"
   ]
  },
  {
   "cell_type": "code",
   "execution_count": 8,
   "id": "a5cc844b",
   "metadata": {},
   "outputs": [
    {
     "name": "stdout",
     "output_type": "stream",
     "text": [
      "+------+-----+---------+\n",
      "|letter|count|frequency|\n",
      "+------+-----+---------+\n",
      "|C     |5    |0.50     |\n",
      "|A     |3    |0.30     |\n",
      "|B     |2    |0.20     |\n",
      "+------+-----+---------+\n",
      "\n"
     ]
    }
   ],
   "source": [
    "df.showFrequencyCount(\"letter\")"
   ]
  },
  {
   "cell_type": "markdown",
   "id": "99d50fdc",
   "metadata": {},
   "source": [
    "# firstInGroup()"
   ]
  },
  {
   "cell_type": "code",
   "execution_count": 11,
   "id": "4f112b8a",
   "metadata": {},
   "outputs": [
    {
     "name": "stdout",
     "output_type": "stream",
     "text": [
      "+-----------+----------+----------+--------------------+\n",
      "| first_name| last_name|start_date|               party|\n",
      "+-----------+----------+----------+--------------------+\n",
      "|     George|Washington|1789-04-30|                null|\n",
      "|       John|     Adams|1797-03-04|          Federalist|\n",
      "|      James|   Madison|1809-03-04|Democratic-Republ...|\n",
      "|      James|   Madison|1813-03-04|Democratic-Republ...|\n",
      "|      James|    Monroe|1817-03-04|Democratic-Republ...|\n",
      "|      James|    Monroe|1821-03-04|Democratic-Republ...|\n",
      "|John Quincy|     Adams|1825-03-04|Democratic-Republ...|\n",
      "+-----------+----------+----------+--------------------+\n",
      "\n"
     ]
    }
   ],
   "source": [
    "data = [\n",
    "    (\"George\", \"Washington\", \"1789-04-30\", None),\n",
    "    (\"John\", \"Adams\", \"1797-03-04\", \"Federalist\"),\n",
    "    (\"James\", \"Madison\", \"1809-03-04\", \"Democratic-Republican\"),\n",
    "    (\"James\", \"Madison\", \"1813-03-04\", \"Democratic-Republican\"),\n",
    "    (\"James\", \"Monroe\", \"1817-03-04\", \"Democratic-Republican\"),\n",
    "    (\"James\", \"Monroe\", \"1821-03-04\", \"Democratic-Republican\"),\n",
    "    (\"John Quincy\", \"Adams\", \"1825-03-04\", \"Democratic-Republican\"),\n",
    "]\n",
    "\n",
    "df = spark.createDataFrame(data, [\"first_name\", \"last_name\", \"start_date\", \"party\"])\n",
    "df.show()"
   ]
  },
  {
   "cell_type": "markdown",
   "id": "6b956938",
   "metadata": {},
   "source": [
    "This dataframe lists US Presidents along with their party and start date. Although, presidents that served multiple terms appear in multiple rows.\n",
    "\n",
    "The **firstInGroup()** function will remove the duplicate rows, based on the `group_by` columns, retaining the first row of the group when ordered by the `sort_by` column. In this example, we group by both `first_name` and `last_name`, then sort by `start_date` to retain only the first term for each President."
   ]
  },
  {
   "cell_type": "code",
   "execution_count": 14,
   "id": "289e16c8",
   "metadata": {},
   "outputs": [
    {
     "name": "stdout",
     "output_type": "stream",
     "text": [
      "+-----------+----------+----------+--------------------+\n",
      "| first_name| last_name|start_date|               party|\n",
      "+-----------+----------+----------+--------------------+\n",
      "|     George|Washington|1789-04-30|                null|\n",
      "|      James|   Madison|1809-03-04|Democratic-Republ...|\n",
      "|      James|    Monroe|1817-03-04|Democratic-Republ...|\n",
      "|       John|     Adams|1797-03-04|          Federalist|\n",
      "|John Quincy|     Adams|1825-03-04|Democratic-Republ...|\n",
      "+-----------+----------+----------+--------------------+\n",
      "\n"
     ]
    }
   ],
   "source": [
    "df.firstInGroup([\"first_name\", \"last_name\"], F.col(\"start_date\")).show()"
   ]
  },
  {
   "cell_type": "code",
   "execution_count": null,
   "id": "6ae26377",
   "metadata": {},
   "outputs": [],
   "source": []
  }
 ],
 "metadata": {
  "kernelspec": {
   "display_name": "Python 3 (ipykernel)",
   "language": "python",
   "name": "python3"
  },
  "language_info": {
   "codemirror_mode": {
    "name": "ipython",
    "version": 3
   },
   "file_extension": ".py",
   "mimetype": "text/x-python",
   "name": "python",
   "nbconvert_exporter": "python",
   "pygments_lexer": "ipython3",
   "version": "3.7.10"
  }
 },
 "nbformat": 4,
 "nbformat_minor": 5
}
